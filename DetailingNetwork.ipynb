{
 "cells": [
  {
   "cell_type": "code",
   "execution_count": 16,
   "metadata": {},
   "outputs": [],
   "source": [
    "import torch\n",
    "import torch.nn as nn\n",
    "import torch.nn.functional as F\n",
    "\n",
    "class Net(nn.Module):\n",
    "    def __init__(self):\n",
    "        super(Net, self).__init__()\n",
    "        #Up-pull and Down-pull operations\n",
    "        self.pull_1 = nn.MaxPool2d(kernel_size=3,stride=2,padding=1)\n",
    "        self.pull_2 = nn.MaxPool2d(kernel_size=3, stride=1,padding=1, return_indices=True)\n",
    "        self.unpull = nn.MaxUnpool2d(kernel_size=4, stride=2,padding=1)\n",
    "        \n",
    "        # Downsampling convolution\n",
    "        self.down_conv1 = nn.Conv2d(1, 64, 3, 1, 1)\n",
    "        self.down_conv2 = nn.Conv2d(64, 128, 3, 1, 1)\n",
    "        self.down_conv3 = nn.Conv2d(128, 256, 3, 1, 1)\n",
    "        self.down_conv4 = nn.Conv2d(256, 512, 3, 1, 1)\n",
    "        self.down_conv5 = nn.Conv2d(512, 1024, 3, 1, 1)\n",
    "\n",
    "        # Upsampling convolution\n",
    "        self.up_conv5 = nn.ConvTranspose2d(1024, 512, 3, 1, 1)\n",
    "        self.up_conv4 = nn.ConvTranspose2d(512, 256, 3, 1, 1)\n",
    "        self.up_conv3 = nn.ConvTranspose2d(256, 128, 3, 1, 1)\n",
    "        self.up_conv2 = nn.ConvTranspose2d(128, 64, 3, 1, 1)\n",
    "        self.up_conv1 = nn.ConvTranspose2d(64, 1, 3, 1, 1)\n",
    "        \n",
    "\n",
    "\n",
    "    def forward(self, x):\n",
    "        # DownSampling\n",
    "        x = self.pull_1(F.relu(self.down_conv1(x)))\n",
    "        x,indconv1 = self.pull_2(x)\n",
    "        \n",
    "        x = self.pull_1(F.relu(self.down_conv2(x)))\n",
    "        x,indconv2 = self.pull_2(x)\n",
    "        \n",
    "        x = self.pull_1(F.relu(self.down_conv3(x)))\n",
    "        x,indconv3 = self.pull_2(x)\n",
    "        \n",
    "        x = self.pull_1(F.relu(self.down_conv4(x)))\n",
    "        x,indconv4 = self.pull_2(x)\n",
    "        \n",
    "        x = self.pull_1(F.relu(self.down_conv5(x)))\n",
    "        x,indconv5 = self.pull_2(x)\n",
    "        \n",
    "        \n",
    "        # UpSampling started\n",
    "        x = F.relu(self.up_conv5(self.unpull(x,indconv5)))\n",
    "        \n",
    "        x = F.relu(self.up_conv4(self.unpull(x,indconv4)))\n",
    "        \n",
    "        x = F.relu(self.up_conv3(self.unpull(x,indconv3)))\n",
    "        \n",
    "        x = F.relu(self.up_conv2(self.unpull(x,indconv2)))\n",
    "        \n",
    "        x = F.relu(self.up_conv1(self.unpull(x,indconv1)))\n",
    "        \n",
    "        x = x.view(-1, self.num_flat_features(x))\n",
    "        \n",
    "        return x\n",
    "    \n",
    "    def num_flat_features(self, x):\n",
    "        size = x.size()[1:]  # all dimensions except the batch dimension\n",
    "        num_features = 1\n",
    "        for s in size:\n",
    "            num_features *= s\n",
    "        return num_features\n",
    "        \n",
    "    \n",
    "model = Net().double()"
   ]
  },
  {
   "cell_type": "code",
   "execution_count": 23,
   "metadata": {},
   "outputs": [
    {
     "name": "stdout",
     "output_type": "stream",
     "text": [
      "0 torch.Size([100, 1, 512, 512]) torch.Size([100, 1, 512, 512])\n"
     ]
    }
   ],
   "source": [
    "import numpy as np\n",
    "import DataLoader as dl\n",
    "dataloader = dl.LitsDataSet.create(root_dir = 'VolSegData1/', batch_size = 100,shuffle = True, num_workers = 0)\n",
    "data = None\n",
    "label = None\n",
    "for i_batch, sample_batched in enumerate(dataloader):\n",
    "        print(i_batch, sample_batched['scan'].size(),\n",
    "          sample_batched['segmentation'].size())\n",
    "        if i_batch == 0:\n",
    "            data = sample_batched['scan'][:1,:]\n",
    "            label = sample_batched['segmentation'][:1,:]\n",
    "            break"
   ]
  },
  {
   "cell_type": "code",
   "execution_count": 24,
   "metadata": {},
   "outputs": [],
   "source": [
    "g = model.forward(data)"
   ]
  },
  {
   "cell_type": "code",
   "execution_count": 19,
   "metadata": {},
   "outputs": [],
   "source": [
    "img = g.detach().numpy().reshape(512,512)"
   ]
  },
  {
   "cell_type": "code",
   "execution_count": null,
   "metadata": {},
   "outputs": [],
   "source": [
    "from torchvision import transforms"
   ]
  },
  {
   "cell_type": "code",
   "execution_count": null,
   "metadata": {},
   "outputs": [],
   "source": [
    "tr = transforms.Compose([transforms.Normalize(mean=[0],std=[1])])"
   ]
  },
  {
   "cell_type": "code",
   "execution_count": null,
   "metadata": {},
   "outputs": [],
   "source": [
    "data.shape"
   ]
  },
  {
   "cell_type": "code",
   "execution_count": null,
   "metadata": {},
   "outputs": [],
   "source": []
  },
  {
   "cell_type": "code",
   "execution_count": null,
   "metadata": {},
   "outputs": [],
   "source": [
    "data.std()"
   ]
  },
  {
   "cell_type": "code",
   "execution_count": null,
   "metadata": {},
   "outputs": [],
   "source": [
    "img = g.detach().numpy().reshape(512,512)\n",
    "img.shape"
   ]
  },
  {
   "cell_type": "code",
   "execution_count": null,
   "metadata": {},
   "outputs": [],
   "source": [
    "img.max()"
   ]
  },
  {
   "cell_type": "code",
   "execution_count": null,
   "metadata": {},
   "outputs": [],
   "source": [
    "data"
   ]
  },
  {
   "cell_type": "code",
   "execution_count": null,
   "metadata": {},
   "outputs": [],
   "source": [
    "pool = nn.MaxPool2d(kernel_size=3,stride=2,padding=1)\n",
    "pool1 = nn.MaxPool2d(kernel_size=3, stride=1,padding=1, return_indices=True)\n",
    "unpool = nn.MaxUnpool2d(kernel_size=4, stride=2,padding=1)"
   ]
  },
  {
   "cell_type": "code",
   "execution_count": null,
   "metadata": {},
   "outputs": [],
   "source": [
    "x = model.down_conv1(data)\n",
    "print(x.shape)\n",
    "x = pool(x)\n",
    "x,indconv1 = pool1(x)\n",
    "print(x.shape)"
   ]
  },
  {
   "cell_type": "code",
   "execution_count": null,
   "metadata": {},
   "outputs": [],
   "source": [
    "x = model.down_conv2(x)\n",
    "print(x.shape)\n",
    "x = pool(x)\n",
    "x,indconv2 = pool1(x)\n",
    "print(x.shape)"
   ]
  },
  {
   "cell_type": "code",
   "execution_count": null,
   "metadata": {},
   "outputs": [],
   "source": [
    "x = model.down_conv3(x)\n",
    "print(x.shape)\n",
    "x = pool(x)\n",
    "x,indconv3 = pool1(x)\n",
    "print(x.shape)"
   ]
  },
  {
   "cell_type": "code",
   "execution_count": null,
   "metadata": {},
   "outputs": [],
   "source": [
    "x = model.down_conv4(x)\n",
    "print(x.shape)\n",
    "x = pool(x)\n",
    "x,indconv4 = pool1(x)\n",
    "print(x.shape)"
   ]
  },
  {
   "cell_type": "code",
   "execution_count": null,
   "metadata": {},
   "outputs": [],
   "source": [
    "x = model.down_conv5(x)\n",
    "print(x.shape)\n",
    "x = pool(x)\n",
    "print(x.shape)\n",
    "x,indconv5 = pool1(x)\n",
    "print(indconv5.shape)\n",
    "print(x.shape)"
   ]
  },
  {
   "cell_type": "markdown",
   "metadata": {},
   "source": [
    "# --------- UpSampling"
   ]
  },
  {
   "cell_type": "code",
   "execution_count": null,
   "metadata": {},
   "outputs": [],
   "source": [
    "print(x.shape)\n",
    "x = unpool(x,indconv5)\n",
    "print(x.shape)\n",
    "x = model.up_conv5(x)\n",
    "print(x.shape)"
   ]
  },
  {
   "cell_type": "code",
   "execution_count": null,
   "metadata": {},
   "outputs": [],
   "source": [
    "print(x.shape)\n",
    "x = unpool(x,indconv4)\n",
    "print(x.shape)\n",
    "x = model.up_conv4(x)\n",
    "print(x.shape)"
   ]
  },
  {
   "cell_type": "code",
   "execution_count": null,
   "metadata": {},
   "outputs": [],
   "source": [
    "print(x.shape)\n",
    "x = unpool(x,indconv3)\n",
    "print(x.shape)\n",
    "x = model.up_conv3(x)\n",
    "print(x.shape)"
   ]
  },
  {
   "cell_type": "code",
   "execution_count": null,
   "metadata": {},
   "outputs": [],
   "source": [
    "print(x.shape)\n",
    "x = unpool(x,indconv2)\n",
    "print(x.shape)\n",
    "x = model.up_conv2(x)\n",
    "print(x.shape)"
   ]
  },
  {
   "cell_type": "code",
   "execution_count": null,
   "metadata": {},
   "outputs": [],
   "source": [
    "print(x.shape)\n",
    "x = unpool(x,indconv1)\n",
    "print(x.shape)\n",
    "x = model.up_conv1(x)\n",
    "print(x.shape)"
   ]
  },
  {
   "cell_type": "code",
   "execution_count": 13,
   "metadata": {},
   "outputs": [],
   "source": [
    "%matplotlib inline\n",
    "import matplotlib.pyplot as plt"
   ]
  },
  {
   "cell_type": "code",
   "execution_count": 25,
   "metadata": {},
   "outputs": [
    {
     "data": {
      "text/plain": [
       "<matplotlib.image.AxesImage at 0x124bd35c0>"
      ]
     },
     "execution_count": 25,
     "metadata": {},
     "output_type": "execute_result"
    },
    {
     "data": {
      "image/png": "[encoded data removed]",
      "text/plain": [
       "<Figure size 432x288 with 1 Axes>"
      ]
     },
     "metadata": {
      "needs_background": "light"
     },
     "output_type": "display_data"
    }
   ],
   "source": [
    "# plt.imshow(np.array(x).reshape(512,512))a\n",
    "# img = x.detach().numpy().reshape(512,512)\n",
    "plt.imshow(img,cmap='gray')"
   ]
  },
  {
   "cell_type": "code",
   "execution_count": 26,
   "metadata": {},
   "outputs": [
    {
     "data": {
      "text/plain": [
       "<matplotlib.image.AxesImage at 0x12489eac8>"
      ]
     },
     "execution_count": 26,
     "metadata": {},
     "output_type": "execute_result"
    },
    {
     "data": {
      "image/png": "[encoded data removed]",
      "text/plain": [
       "<Figure size 432x288 with 1 Axes>"
      ]
     },
     "metadata": {
      "needs_background": "light"
     },
     "output_type": "display_data"
    }
   ],
   "source": [
    "img = data.detach().numpy().reshape(512,512)\n",
    "plt.imshow(img,cmap='gray')"
   ]
  },
  {
   "cell_type": "code",
   "execution_count": 27,
   "metadata": {},
   "outputs": [
    {
     "data": {
      "text/plain": [
       "<matplotlib.image.AxesImage at 0x1259cdeb8>"
      ]
     },
     "execution_count": 27,
     "metadata": {},
     "output_type": "execute_result"
    },
    {
     "data": {
      "image/png": "[encoded data removed]",
      "text/plain": [
       "<Figure size 432x288 with 1 Axes>"
      ]
     },
     "metadata": {
      "needs_background": "light"
     },
     "output_type": "display_data"
    }
   ],
   "source": [
    "img = label.detach().numpy().reshape(512,512)\n",
    "plt.imshow(img,cmap='gray')"
   ]
  },
  {
   "cell_type": "code",
   "execution_count": null,
   "metadata": {},
   "outputs": [],
   "source": [
    "img.max()"
   ]
  },
  {
   "cell_type": "code",
   "execution_count": null,
   "metadata": {},
   "outputs": [],
   "source": [
    "data.max()"
   ]
  },
  {
   "cell_type": "markdown",
   "metadata": {},
   "source": [
    "# rough "
   ]
  },
  {
   "cell_type": "code",
   "execution_count": null,
   "metadata": {},
   "outputs": [],
   "source": [
    "pool = nn.MaxPool2d(3, stride=2,padding=1)\n",
    "pool1 = nn.MaxPool2d(3, stride=1,padding=1, return_indices=True)\n",
    "unpool = nn.MaxUnpool2d(4, stride=2,padding=1)\n",
    "inputs = torch.from_numpy(np.random.randn(1,1,10,10))\n",
    "\n",
    "output = pool(inputs)\n",
    "output,indices = pool1(output)\n",
    "out = unpool(output,indices)\n",
    "\n",
    "print(inputs.shape)\n",
    "print(output.shape)\n",
    "print(indices.shape)\n",
    "print(out.shape)"
   ]
  },
  {
   "cell_type": "markdown",
   "metadata": {},
   "source": [
    "# Improvised Net "
   ]
  },
  {
   "cell_type": "code",
   "execution_count": null,
   "metadata": {},
   "outputs": [],
   "source": [
    "?F.linear"
   ]
  },
  {
   "cell_type": "code",
   "execution_count": null,
   "metadata": {},
   "outputs": [],
   "source": [
    "x.shape"
   ]
  },
  {
   "cell_type": "code",
   "execution_count": null,
   "metadata": {},
   "outputs": [],
   "source": [
    "x.view(-1).view(1,-1).shape"
   ]
  },
  {
   "cell_type": "code",
   "execution_count": null,
   "metadata": {},
   "outputs": [],
   "source": [
    "512*512"
   ]
  },
  {
   "cell_type": "code",
   "execution_count": null,
   "metadata": {},
   "outputs": [],
   "source": [
    "x.view(-1,262144).shape"
   ]
  },
  {
   "cell_type": "code",
   "execution_count": null,
   "metadata": {},
   "outputs": [],
   "source": [
    "x.view(1,-1).shape"
   ]
  },
  {
   "cell_type": "code",
   "execution_count": null,
   "metadata": {},
   "outputs": [],
   "source": [
    "x[1:,:].view(1,-1)"
   ]
  },
  {
   "cell_type": "code",
   "execution_count": null,
   "metadata": {},
   "outputs": [],
   "source": [
    "x.size()[1:]"
   ]
  },
  {
   "cell_type": "code",
   "execution_count": null,
   "metadata": {},
   "outputs": [],
   "source": [
    "x.size()"
   ]
  },
  {
   "cell_type": "code",
   "execution_count": null,
   "metadata": {},
   "outputs": [],
   "source": [
    "x = np.random.randn(2,4)"
   ]
  },
  {
   "cell_type": "code",
   "execution_count": null,
   "metadata": {},
   "outputs": [],
   "source": [
    "(*x.shape,1)"
   ]
  },
  {
   "cell_type": "code",
   "execution_count": null,
   "metadata": {},
   "outputs": [],
   "source": []
  },
  {
   "cell_type": "code",
   "execution_count": null,
   "metadata": {},
   "outputs": [],
   "source": [
    "std = lambda x : (x-x.min())/(x.max()-x.mean()) if not (x.min() == x.max() == 0) else x"
   ]
  },
  {
   "cell_type": "code",
   "execution_count": null,
   "metadata": {},
   "outputs": [],
   "source": [
    "img = std(data).detach().numpy().reshape(512,512)"
   ]
  },
  {
   "cell_type": "code",
   "execution_count": null,
   "metadata": {},
   "outputs": [],
   "source": [
    "img"
   ]
  },
  {
   "cell_type": "code",
   "execution_count": null,
   "metadata": {},
   "outputs": [],
   "source": []
  }
 ],
 "metadata": {
  "kernelspec": {
   "display_name": "base",
   "language": "python",
   "name": "base"
  },
  "language_info": {
   "codemirror_mode": {
    "name": "ipython",
    "version": 3
   },
   "file_extension": ".py",
   "mimetype": "text/x-python",
   "name": "python",
   "nbconvert_exporter": "python",
   "pygments_lexer": "ipython3",
   "version": "3.7.0"
  }
 },
 "nbformat": 4,
 "nbformat_minor": 2
}
