{
 "cells": [
  {
   "cell_type": "code",
   "execution_count": 1,
   "metadata": {},
   "outputs": [],
   "source": [
    "import torch\n",
    "import DataLoader as dl\n",
    "import LitsDataSets as LITS"
   ]
  },
  {
   "cell_type": "code",
   "execution_count": 2,
   "metadata": {},
   "outputs": [],
   "source": [
    "dataloader = dl.LitsDataSet.create(root_dir = './VolSegData/', batch_size = 10,\n",
    "                                            shuffle = True, num_workers = 0)"
   ]
  },
  {
   "cell_type": "code",
   "execution_count": 3,
   "metadata": {},
   "outputs": [
    {
     "name": "stdout",
     "output_type": "stream",
     "text": [
      "torch.Size([10, 1, 512, 512])\n",
      "torch.DoubleTensor\n",
      "torch.Size([10, 262144])\n",
      "torch.DoubleTensor\n",
      "torch.Size([10, 1, 512, 512])\n",
      "torch.DoubleTensor\n",
      "torch.Size([10, 262144])\n",
      "torch.DoubleTensor\n",
      "torch.Size([10, 1, 512, 512])\n",
      "torch.DoubleTensor\n",
      "torch.Size([10, 262144])\n",
      "torch.DoubleTensor\n"
     ]
    }
   ],
   "source": [
    "for i,sample_batched in enumerate(dataloader):\n",
    "    inputs, label = sample_batched['scan'],sample_batched['segmentation']\n",
    "    print(inputs.shape)\n",
    "    print(inputs.type())\n",
    "    print(label.shape)\n",
    "    print(label.type())\n",
    "    if(i==2):\n",
    "        break"
   ]
  },
  {
   "cell_type": "code",
   "execution_count": 4,
   "metadata": {},
   "outputs": [],
   "source": [
    "litsdataloader = LITS.LitsDataLoader.create(root_dir = [\"./trainBatch1/batch1/\",\"./trainBatch2/batch2/\"], \n",
    "                                            batch_size = 10,\n",
    "                                            shuffle = True, num_workers = 0)"
   ]
  },
  {
   "cell_type": "code",
   "execution_count": 5,
   "metadata": {},
   "outputs": [
    {
     "name": "stdout",
     "output_type": "stream",
     "text": [
      "torch.Size([10, 1, 512, 512])\n",
      "torch.DoubleTensor\n",
      "torch.Size([10, 262144])\n",
      "torch.DoubleTensor\n",
      "torch.Size([10, 1, 512, 512])\n",
      "torch.DoubleTensor\n",
      "torch.Size([10, 262144])\n",
      "torch.DoubleTensor\n",
      "torch.Size([10, 1, 512, 512])\n",
      "torch.DoubleTensor\n",
      "torch.Size([10, 262144])\n",
      "torch.DoubleTensor\n",
      "torch.Size([10, 1, 512, 512])\n",
      "torch.DoubleTensor\n",
      "torch.Size([10, 262144])\n",
      "torch.DoubleTensor\n",
      "torch.Size([10, 1, 512, 512])\n",
      "torch.DoubleTensor\n",
      "torch.Size([10, 262144])\n",
      "torch.DoubleTensor\n",
      "torch.Size([10, 1, 512, 512])\n",
      "torch.DoubleTensor\n",
      "torch.Size([10, 262144])\n",
      "torch.DoubleTensor\n",
      "torch.Size([10, 1, 512, 512])\n",
      "torch.DoubleTensor\n",
      "torch.Size([10, 262144])\n",
      "torch.DoubleTensor\n",
      "torch.Size([10, 1, 512, 512])\n",
      "torch.DoubleTensor\n",
      "torch.Size([10, 262144])\n",
      "torch.DoubleTensor\n",
      "torch.Size([10, 1, 512, 512])\n",
      "torch.DoubleTensor\n",
      "torch.Size([10, 262144])\n",
      "torch.DoubleTensor\n"
     ]
    }
   ],
   "source": [
    "for i_scan, tensor_data in enumerate(litsdataloader):\n",
    "    for i,sample_batched in enumerate(tensor_data):\n",
    "        inputs, label = sample_batched['scan'],sample_batched['segmentation']\n",
    "        print(inputs.shape)\n",
    "        print(inputs.type())\n",
    "        print(label.shape)\n",
    "        print(label.type())\n",
    "        if(i==2):\n",
    "            break\n",
    "    if(i_scan==2):\n",
    "        break"
   ]
  },
  {
   "cell_type": "code",
   "execution_count": null,
   "metadata": {},
   "outputs": [],
   "source": []
  }
 ],
 "metadata": {
  "kernelspec": {
   "display_name": "base",
   "language": "python",
   "name": "base"
  },
  "language_info": {
   "codemirror_mode": {
    "name": "ipython",
    "version": 3
   },
   "file_extension": ".py",
   "mimetype": "text/x-python",
   "name": "python",
   "nbconvert_exporter": "python",
   "pygments_lexer": "ipython3",
   "version": "3.7.0"
  }
 },
 "nbformat": 4,
 "nbformat_minor": 2
}
